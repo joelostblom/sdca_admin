{
 "cells": [
  {
   "cell_type": "code",
   "execution_count": 1,
   "id": "f7525e2d-c5f7-45d0-b33e-cd103cc6a4dd",
   "metadata": {
    "tags": []
   },
   "outputs": [],
   "source": [
    "from sdca_admin import filter_cpr\n",
    "\n",
    "filter_cpr('/home/joel/Downloads/CPR Check LJ RD(1).xlsx')"
   ]
  }
 ],
 "metadata": {
  "kernelspec": {
   "display_name": "Python [conda env:sdca_admin]",
   "language": "python",
   "name": "conda-env-sdca_admin-py"
  },
  "language_info": {
   "codemirror_mode": {
    "name": "ipython",
    "version": 3
   },
   "file_extension": ".py",
   "mimetype": "text/x-python",
   "name": "python",
   "nbconvert_exporter": "python",
   "pygments_lexer": "ipython3",
   "version": "3.11.5"
  }
 },
 "nbformat": 4,
 "nbformat_minor": 5
}
