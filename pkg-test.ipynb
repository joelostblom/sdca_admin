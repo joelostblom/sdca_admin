{
 "cells": [
  {
   "cell_type": "code",
   "execution_count": 1,
   "id": "403da00b-012d-4759-abfd-e4b549d427b9",
   "metadata": {
    "tags": []
   },
   "outputs": [],
   "source": [
    "%load_ext autoreload\n",
    "%autoreload 2"
   ]
  },
  {
   "cell_type": "code",
   "execution_count": 4,
   "id": "341c2f91-d25c-4743-b2da-d0f5f7707c98",
   "metadata": {
    "tags": []
   },
   "outputs": [],
   "source": [
    "from sdca_admin import filter_cpr\n",
    "\n",
    "filter_cpr('/home/joel/Downloads/CPR Check LJ RD(1).xlsx')"
   ]
  }
 ],
 "metadata": {
  "kernelspec": {
   "display_name": "Python [conda env:alt5]",
   "language": "python",
   "name": "conda-env-alt5-py"
  },
  "language_info": {
   "codemirror_mode": {
    "name": "ipython",
    "version": 3
   },
   "file_extension": ".py",
   "mimetype": "text/x-python",
   "name": "python",
   "nbconvert_exporter": "python",
   "pygments_lexer": "ipython3",
   "version": "3.11.3"
  }
 },
 "nbformat": 4,
 "nbformat_minor": 5
}
