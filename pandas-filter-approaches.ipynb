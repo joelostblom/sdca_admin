{
 "cells": [
  {
   "cell_type": "code",
   "execution_count": 1,
   "id": "0a3b3031-c54b-47dc-aa1b-558e62b44139",
   "metadata": {
    "tags": []
   },
   "outputs": [],
   "source": [
    "import re\n",
    "\n",
    "import pandas as pd\n",
    "\n",
    "\n",
    "def validate_cpr(text):\n",
    "    # Return all ten digit numbers as a list\n",
    "    for ten_digit_number in re.findall('\\d{10}', text):\n",
    "        # Whatever your condition is goes here\n",
    "        if int(ten_digit_number) > 1_111_111_111:\n",
    "            return True\n",
    "    return False"
   ]
  },
  {
   "cell_type": "code",
   "execution_count": 2,
   "id": "d6651d6f-95f6-4cbd-a067-ff7f0b93c2b5",
   "metadata": {
    "tags": []
   },
   "outputs": [],
   "source": [
    "# Approach 1\n",
    "# Assign to df and then filter that variable with []\n",
    "df = pd.read_excel(\n",
    "    'Downloads/CPR Check LJ RD(1).xlsx',\n",
    "    dtype={'Linjeindhold for 1. fund': str}  # Apparently this column is a mix of str and int in excel\n",
    ")\n",
    "df[\n",
    "    df['Linjeindhold for 1. fund'].apply(validate_cpr)\n",
    "].to_excel('cpr-records.xlsx')"
   ]
  },
  {
   "cell_type": "code",
   "execution_count": 3,
   "id": "7aa6ef31-4244-4292-972b-c3ca01df68fb",
   "metadata": {
    "tags": []
   },
   "outputs": [],
   "source": [
    "# Approach 2\n",
    "# Chain without assigning to a variable by using query instead of [] to filter\n",
    "pd.read_excel(\n",
    "    'Downloads/CPR Check LJ RD(1).xlsx',\n",
    "    dtype={'Linjeindhold for 1. fund': str}  # Apparently this column is a mix of str and int in excel\n",
    ").query(\n",
    "    '`Linjeindhold for 1. fund`.apply(@validate_cpr)'\n",
    ").to_excel(\n",
    "    'cpr-records.xlsx'\n",
    ")"
   ]
  },
  {
   "cell_type": "code",
   "execution_count": 4,
   "id": "7b2ea0f3-977e-4628-85ec-e95ca5134714",
   "metadata": {
    "tags": []
   },
   "outputs": [],
   "source": [
    "# Approach 3\n",
    "# Same as A2 but adds an explicit step for filtering out rows that don't contain a 10 digit pattern at all\n",
    "# Probably only worth it if you have a huge file to read\n",
    "pd.read_excel(\n",
    "    'Downloads/CPR Check LJ RD(1).xlsx',\n",
    "    dtype={'Linjeindhold for 1. fund': str}  # Apparently this column is a mix of str and int in excel\n",
    ").query(\n",
    "    '`Linjeindhold for 1. fund`.str.contains(\"\\d{10}\")'\n",
    "    '& `Linjeindhold for 1. fund`.apply(@validate_cpr)'\n",
    ").to_excel(\n",
    "    'cpr-records.xlsx'\n",
    ")"
   ]
  }
 ],
 "metadata": {
  "kernelspec": {
   "display_name": "Python [conda env:alt5]",
   "language": "python",
   "name": "conda-env-alt5-py"
  },
  "language_info": {
   "codemirror_mode": {
    "name": "ipython",
    "version": 3
   },
   "file_extension": ".py",
   "mimetype": "text/x-python",
   "name": "python",
   "nbconvert_exporter": "python",
   "pygments_lexer": "ipython3",
   "version": "3.11.3"
  }
 },
 "nbformat": 4,
 "nbformat_minor": 5
}
